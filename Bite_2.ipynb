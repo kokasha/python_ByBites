{
 "cells": [
  {
   "cell_type": "code",
   "execution_count": null,
   "metadata": {},
   "outputs": [],
   "source": []
  },
  {
   "cell_type": "code",
   "execution_count": 63,
   "metadata": {},
   "outputs": [],
   "source": [
    "import re\n",
    "\n",
    "def extract_course_times():\n",
    "    \"\"\"Write a regular expression that returns a list of timestamps:\n",
    "        ['01:47', '32:03', '41:51', '27:48', '05:02']\"\"\"\n",
    "    flask_course = ('Introduction 1 Lecture 01:47'\n",
    "                    'The Basics 4 Lectures 32:03'\n",
    "                    'Getting Technical!  4 Lectures 41:51'\n",
    "                    'Challenge 2 Lectures 27:48'\n",
    "                    'Afterword 1 Lecture 05:02')\n",
    "    \n",
    "    return re.findall(r'\\d+:\\d+',flask_course)\n",
    "    \n",
    "\n",
    "\n",
    "def get_all_hashtags_and_links():\n",
    "    \"\"\"Write a regular expression that returns this list:\n",
    "       ['http://pybit.es/requests-cache.html', '#python', '#APIs']\"\"\"\n",
    "    tweet = ('New PyBites article: Module of the Week - Requests-cache '\n",
    "             'for Repeated API Calls - http://pybit.es/requests-cache.html '\n",
    "             '#python #APIs')\n",
    "    return  re.findall(r'(http://[\\w./-]+|#\\w+)',tweet)\n",
    "\n",
    "\n",
    "def match_first_paragraph():\n",
    "    \"\"\"Write a regular expression that returns  'pybites != greedy' \"\"\"\n",
    "    html = ('<p>pybites != greedy</p>'\n",
    "            '<p>not the same can be said REgarding ...</p>')\n",
    "    m =  re.search(r'<p>\\D+?</p>',html)\n",
    "    return m.group()"
   ]
  },
  {
   "cell_type": "code",
   "execution_count": 64,
   "metadata": {},
   "outputs": [
    {
     "ename": "SyntaxError",
     "evalue": "invalid syntax (<ipython-input-64-82e6d4e732d5>, line 3)",
     "output_type": "error",
     "traceback": [
      "\u001b[1;36m  File \u001b[1;32m\"<ipython-input-64-82e6d4e732d5>\"\u001b[1;36m, line \u001b[1;32m3\u001b[0m\n\u001b[1;33m    m =\u001b[0m\n\u001b[1;37m        ^\u001b[0m\n\u001b[1;31mSyntaxError\u001b[0m\u001b[1;31m:\u001b[0m invalid syntax\n"
     ]
    }
   ],
   "source": [
    "html = ('<p>pybites != greedy</p>'\n",
    "            '<p>not the same can be said REgarding ...</p>')\n",
    "m = \n",
    "m"
   ]
  },
  {
   "cell_type": "code",
   "execution_count": 65,
   "metadata": {},
   "outputs": [
    {
     "data": {
      "text/plain": [
       "'<p>pybites != greedy</p>'"
      ]
     },
     "execution_count": 65,
     "metadata": {},
     "output_type": "execute_result"
    }
   ],
   "source": [
    "match_first_paragraph()"
   ]
  },
  {
   "cell_type": "code",
   "execution_count": null,
   "metadata": {},
   "outputs": [],
   "source": []
  }
 ],
 "metadata": {
  "kernelspec": {
   "display_name": "Python 3",
   "language": "python",
   "name": "python3"
  },
  "language_info": {
   "codemirror_mode": {
    "name": "ipython",
    "version": 3
   },
   "file_extension": ".py",
   "mimetype": "text/x-python",
   "name": "python",
   "nbconvert_exporter": "python",
   "pygments_lexer": "ipython3",
   "version": "3.7.1"
  }
 },
 "nbformat": 4,
 "nbformat_minor": 2
}
