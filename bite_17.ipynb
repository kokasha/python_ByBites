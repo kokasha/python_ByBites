{
 "cells": [
  {
   "cell_type": "code",
   "execution_count": 2,
   "metadata": {},
   "outputs": [],
   "source": [
    "import itertools as it"
   ]
  },
  {
   "cell_type": "code",
   "execution_count": null,
   "metadata": {},
   "outputs": [],
   "source": []
  },
  {
   "cell_type": "code",
   "execution_count": 3,
   "metadata": {},
   "outputs": [],
   "source": [
    "friends = 'karim ahmed nour ali'.split()"
   ]
  },
  {
   "cell_type": "code",
   "execution_count": 4,
   "metadata": {},
   "outputs": [
    {
     "data": {
      "text/plain": [
       "['karim', 'ahmed', 'nour', 'ali']"
      ]
     },
     "execution_count": 4,
     "metadata": {},
     "output_type": "execute_result"
    }
   ],
   "source": [
    "friends"
   ]
  },
  {
   "cell_type": "code",
   "execution_count": 12,
   "metadata": {},
   "outputs": [],
   "source": [
    "def friends_teams(team=friends,team_size=2,order_does_matter=False):\n",
    "    if order_does_matter:\n",
    "        return list(it.permutations(team,team_size))\n",
    "    else:\n",
    "        return list(it.combinations(team,team_size))"
   ]
  },
  {
   "cell_type": "code",
   "execution_count": 13,
   "metadata": {},
   "outputs": [
    {
     "name": "stdout",
     "output_type": "stream",
     "text": [
      "[('karim', 'ahmed'), ('karim', 'nour'), ('karim', 'ali'), ('ahmed', 'karim'), ('ahmed', 'nour'), ('ahmed', 'ali'), ('nour', 'karim'), ('nour', 'ahmed'), ('nour', 'ali'), ('ali', 'karim'), ('ali', 'ahmed'), ('ali', 'nour')]\n"
     ]
    }
   ],
   "source": [
    "print(friends_teams(order_does_matter=True))"
   ]
  },
  {
   "cell_type": "code",
   "execution_count": 14,
   "metadata": {},
   "outputs": [
    {
     "name": "stdout",
     "output_type": "stream",
     "text": [
      "[('karim', 'ahmed'), ('karim', 'nour'), ('karim', 'ali'), ('ahmed', 'nour'), ('ahmed', 'ali'), ('nour', 'ali')]\n"
     ]
    }
   ],
   "source": [
    "print(friends_teams())"
   ]
  },
  {
   "cell_type": "code",
   "execution_count": null,
   "metadata": {},
   "outputs": [],
   "source": []
  }
 ],
 "metadata": {
  "kernelspec": {
   "display_name": "Python 3",
   "language": "python",
   "name": "python3"
  },
  "language_info": {
   "codemirror_mode": {
    "name": "ipython",
    "version": 3
   },
   "file_extension": ".py",
   "mimetype": "text/x-python",
   "name": "python",
   "nbconvert_exporter": "python",
   "pygments_lexer": "ipython3",
   "version": "3.6.5"
  }
 },
 "nbformat": 4,
 "nbformat_minor": 2
}
