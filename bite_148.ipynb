{
 "cells": [
  {
   "cell_type": "code",
   "execution_count": 2,
   "metadata": {},
   "outputs": [],
   "source": [
    "from itertools import groupby\n",
    "from collections import defaultdict, OrderedDict"
   ]
  },
  {
   "cell_type": "code",
   "execution_count": 4,
   "metadata": {},
   "outputs": [],
   "source": [
    "\n",
    "cars = [\n",
    "    # need mock data? -> https://www.mockaroo.com == awesome\n",
    "    ('Mercedes-Benz', '300D'), ('Mercedes-Benz', '600SEL'),\n",
    "    ('Toyota', 'Avalon'), ('Ford', 'Bronco'),\n",
    "    ('Chevrolet', 'Cavalier'), ('Chevrolet', 'Corvette'),\n",
    "    ('Mercedes-Benz', 'E-Class'), ('Hyundai', 'Elantra'),\n",
    "    ('Volkswagen', 'GTI'), ('Toyota', 'Highlander'),\n",
    "    ('Chevrolet', 'Impala'), ('Nissan', 'Maxima'),\n",
    "    ('Ford', 'Mustang'), ('Kia', 'Optima'),\n",
    "    ('Volkswagen', 'Passat'), ('Nissan', 'Pathfinder'),\n",
    "    ('Volkswagen', 'Routan'), ('Hyundai', 'Sonata'),\n",
    "    ('Kia', 'Sorento'), ('Kia', 'Sportage'),\n",
    "    ('Ford', 'Taurus'), ('Nissan', 'Titan'),\n",
    "    ('Toyota', 'Tundra'), ('Hyundai', 'Veracruz'),\n",
    "]"
   ]
  },
  {
   "cell_type": "code",
   "execution_count": 21,
   "metadata": {},
   "outputs": [],
   "source": [
    "sorted_cars = sorted(cars, key=lambda x: (x[0],x[1]))"
   ]
  },
  {
   "cell_type": "code",
   "execution_count": 22,
   "metadata": {},
   "outputs": [
    {
     "data": {
      "text/plain": [
       "[('Chevrolet', 'Cavalier'),\n",
       " ('Chevrolet', 'Corvette'),\n",
       " ('Chevrolet', 'Impala'),\n",
       " ('Ford', 'Bronco'),\n",
       " ('Ford', 'Mustang'),\n",
       " ('Ford', 'Taurus'),\n",
       " ('Hyundai', 'Elantra'),\n",
       " ('Hyundai', 'Sonata'),\n",
       " ('Hyundai', 'Veracruz'),\n",
       " ('Kia', 'Optima'),\n",
       " ('Kia', 'Sorento'),\n",
       " ('Kia', 'Sportage'),\n",
       " ('Mercedes-Benz', '300D'),\n",
       " ('Mercedes-Benz', '600SEL'),\n",
       " ('Mercedes-Benz', 'E-Class'),\n",
       " ('Nissan', 'Maxima'),\n",
       " ('Nissan', 'Pathfinder'),\n",
       " ('Nissan', 'Titan'),\n",
       " ('Toyota', 'Avalon'),\n",
       " ('Toyota', 'Highlander'),\n",
       " ('Toyota', 'Tundra'),\n",
       " ('Volkswagen', 'GTI'),\n",
       " ('Volkswagen', 'Passat'),\n",
       " ('Volkswagen', 'Routan')]"
      ]
     },
     "execution_count": 22,
     "metadata": {},
     "output_type": "execute_result"
    }
   ],
   "source": [
    "sorted_cars"
   ]
  },
  {
   "cell_type": "code",
   "execution_count": 26,
   "metadata": {},
   "outputs": [],
   "source": [
    "d= defaultdict(list)\n",
    "for item in sorted_cars:\n",
    "    d[item[0]].append(item[1])"
   ]
  },
  {
   "cell_type": "code",
   "execution_count": 27,
   "metadata": {},
   "outputs": [
    {
     "data": {
      "text/plain": [
       "defaultdict(list,\n",
       "            {'Chevrolet': ['Cavalier', 'Corvette', 'Impala'],\n",
       "             'Ford': ['Bronco', 'Mustang', 'Taurus'],\n",
       "             'Hyundai': ['Elantra', 'Sonata', 'Veracruz'],\n",
       "             'Kia': ['Optima', 'Sorento', 'Sportage'],\n",
       "             'Mercedes-Benz': ['300D', '600SEL', 'E-Class'],\n",
       "             'Nissan': ['Maxima', 'Pathfinder', 'Titan'],\n",
       "             'Toyota': ['Avalon', 'Highlander', 'Tundra'],\n",
       "             'Volkswagen': ['GTI', 'Passat', 'Routan']})"
      ]
     },
     "execution_count": 27,
     "metadata": {},
     "output_type": "execute_result"
    }
   ],
   "source": [
    "d"
   ]
  },
  {
   "cell_type": "code",
   "execution_count": 31,
   "metadata": {},
   "outputs": [
    {
     "name": "stdout",
     "output_type": "stream",
     "text": [
      "Chevrolet\n",
      "- Cavalier\n",
      "- Corvette\n",
      "- Impala\n",
      "\n",
      "Ford\n",
      "- Bronco\n",
      "- Mustang\n",
      "- Taurus\n",
      "\n",
      "Hyundai\n",
      "- Elantra\n",
      "- Sonata\n",
      "- Veracruz\n",
      "\n",
      "Kia\n",
      "- Optima\n",
      "- Sorento\n",
      "- Sportage\n",
      "\n",
      "Mercedes-Benz\n",
      "- 300D\n",
      "- 600SEL\n",
      "- E-Class\n",
      "\n",
      "Nissan\n",
      "- Maxima\n",
      "- Pathfinder\n",
      "- Titan\n",
      "\n",
      "Toyota\n",
      "- Avalon\n",
      "- Highlander\n",
      "- Tundra\n",
      "\n",
      "Volkswagen\n",
      "- GTI\n",
      "- Passat\n",
      "- Routan\n",
      "\n"
     ]
    }
   ],
   "source": [
    "for man in d:\n",
    "    print(man)\n",
    "    for model in d[man]:\n",
    "        print('- {}'.format(model))\n",
    "    print()"
   ]
  },
  {
   "cell_type": "code",
   "execution_count": 34,
   "metadata": {},
   "outputs": [
    {
     "name": "stdout",
     "output_type": "stream",
     "text": [
      "Chevrolet\n",
      "('Chevrolet', 'Cavalier')\n",
      "('Chevrolet', 'Corvette')\n",
      "('Chevrolet', 'Impala')\n",
      "Ford\n",
      "('Ford', 'Bronco')\n",
      "('Ford', 'Mustang')\n",
      "('Ford', 'Taurus')\n",
      "Hyundai\n",
      "('Hyundai', 'Elantra')\n",
      "('Hyundai', 'Sonata')\n",
      "('Hyundai', 'Veracruz')\n",
      "Kia\n",
      "('Kia', 'Optima')\n",
      "('Kia', 'Sorento')\n",
      "('Kia', 'Sportage')\n",
      "Mercedes-Benz\n",
      "('Mercedes-Benz', '300D')\n",
      "('Mercedes-Benz', '600SEL')\n",
      "('Mercedes-Benz', 'E-Class')\n",
      "Nissan\n",
      "('Nissan', 'Maxima')\n",
      "('Nissan', 'Pathfinder')\n",
      "('Nissan', 'Titan')\n",
      "Toyota\n",
      "('Toyota', 'Avalon')\n",
      "('Toyota', 'Highlander')\n",
      "('Toyota', 'Tundra')\n",
      "Volkswagen\n",
      "('Volkswagen', 'GTI')\n",
      "('Volkswagen', 'Passat')\n",
      "('Volkswagen', 'Routan')\n"
     ]
    }
   ],
   "source": [
    "from operator import itemgetter\n",
    "for man,models in groupby(sorted_cars,key=itemgetter(0)):\n",
    "    print(man)\n",
    "    for model in models:\n",
    "        print(model)"
   ]
  },
  {
   "cell_type": "code",
   "execution_count": null,
   "metadata": {},
   "outputs": [],
   "source": []
  }
 ],
 "metadata": {
  "kernelspec": {
   "display_name": "Python 3",
   "language": "python",
   "name": "python3"
  },
  "language_info": {
   "codemirror_mode": {
    "name": "ipython",
    "version": 3
   },
   "file_extension": ".py",
   "mimetype": "text/x-python",
   "name": "python",
   "nbconvert_exporter": "python",
   "pygments_lexer": "ipython3",
   "version": "3.7.1"
  }
 },
 "nbformat": 4,
 "nbformat_minor": 2
}
