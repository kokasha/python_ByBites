{
 "cells": [
  {
   "cell_type": "code",
   "execution_count": 13,
   "metadata": {},
   "outputs": [],
   "source": [
    "from collections import OrderedDict\n",
    "import itertools\n",
    "\n",
    "scores = [10, 50, 100, 175, 250, 400, 600, 800, 1000]\n",
    "belts = 'white yellow orange green blue brown black paneled red'.split()\n",
    "HONORS = OrderedDict(zip(scores, belts))\n",
    "MIN_SCORE, MAX_SCORE = min(scores), max(scores)"
   ]
  },
  {
   "cell_type": "code",
   "execution_count": 29,
   "metadata": {},
   "outputs": [
    {
     "data": {
      "text/plain": [
       "OrderedDict([(10, 'white'),\n",
       "             (50, 'yellow'),\n",
       "             (100, 'orange'),\n",
       "             (175, 'green'),\n",
       "             (250, 'blue'),\n",
       "             (400, 'brown'),\n",
       "             (600, 'black'),\n",
       "             (800, 'paneled'),\n",
       "             (1000, 'red')])"
      ]
     },
     "execution_count": 29,
     "metadata": {},
     "output_type": "execute_result"
    }
   ],
   "source": [
    "HONORS"
   ]
  },
  {
   "cell_type": "code",
   "execution_count": 16,
   "metadata": {},
   "outputs": [
    {
     "name": "stdout",
     "output_type": "stream",
     "text": [
      "10 50\n",
      "50 100\n",
      "100 175\n",
      "175 250\n",
      "250 400\n",
      "400 600\n",
      "600 800\n",
      "800 1000\n"
     ]
    }
   ],
   "source": [
    "for score, next_score in zip(list(HONORS),list(HONORS)[1:]):\n",
    "    print(score,next_score)"
   ]
  },
  {
   "cell_type": "code",
   "execution_count": 30,
   "metadata": {},
   "outputs": [],
   "source": [
    "def get_belt(user_score):\n",
    "    if user_score < MIN_SCORE:\n",
    "        return 'NO BELT'\n",
    "    if user_score >= MAX_SCORE:\n",
    "        return HONORS[MAX_SCORE]\n",
    "    \n",
    "    for score, next_score in zip(list(HONORS),list(HONORS)[1:]):\n",
    "        print(score,next_score, user_score)\n",
    "        if score <= user_score < next_score:\n",
    "            return HONORS[score]"
   ]
  },
  {
   "cell_type": "code",
   "execution_count": 31,
   "metadata": {},
   "outputs": [
    {
     "name": "stdout",
     "output_type": "stream",
     "text": [
      "10 50 160\n",
      "50 100 160\n",
      "100 175 160\n"
     ]
    },
    {
     "data": {
      "text/plain": [
       "'orange'"
      ]
     },
     "execution_count": 31,
     "metadata": {},
     "output_type": "execute_result"
    }
   ],
   "source": [
    "get_belt(160)"
   ]
  },
  {
   "cell_type": "code",
   "execution_count": null,
   "metadata": {},
   "outputs": [],
   "source": []
  }
 ],
 "metadata": {
  "kernelspec": {
   "display_name": "Python 3",
   "language": "python",
   "name": "python3"
  },
  "language_info": {
   "codemirror_mode": {
    "name": "ipython",
    "version": 3
   },
   "file_extension": ".py",
   "mimetype": "text/x-python",
   "name": "python",
   "nbconvert_exporter": "python",
   "pygments_lexer": "ipython3",
   "version": "3.7.1"
  }
 },
 "nbformat": 4,
 "nbformat_minor": 2
}
