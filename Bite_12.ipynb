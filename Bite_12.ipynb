{
 "cells": [
  {
   "cell_type": "code",
   "execution_count": 65,
   "metadata": {},
   "outputs": [],
   "source": [
    "class UserDoesNotExist(Exception):\n",
    "    def __init__(self):\n",
    "        print('This is a bad Exception')\n",
    "\n",
    "class UserAccessExpired(Exception):\n",
    "    pass\n",
    "\n",
    "class UserNoPermission(Exception):\n",
    "    pass"
   ]
  },
  {
   "cell_type": "code",
   "execution_count": 66,
   "metadata": {},
   "outputs": [],
   "source": [
    "from collections import namedtuple\n",
    "\n",
    "User = namedtuple('User', 'name role expired')\n",
    "USER, ADMIN = 'user', 'admin'\n",
    "SECRET = 'I am a very secret token'\n",
    "\n",
    "julian = User(name='Julian', role=USER, expired=False)\n",
    "bob = User(name='Bob', role=USER, expired=True)\n",
    "pybites = User(name='PyBites', role=ADMIN, expired=False)\n",
    "Karim = User(name='karim', role=USER, expired=False)\n",
    "USERS = (julian, bob, pybites)\n",
    "\n",
    "# define exception classes here\n",
    "\n",
    "def get_secret_token(username):\n",
    "    def _get_user(username):\n",
    "        \n",
    "        user = [user for user in USERS if user.name == username]\n",
    "        if user == []:\n",
    "            return False\n",
    "        else:\n",
    "            return user[0]\n",
    "    user = _get_user(username) \n",
    "    if not user:\n",
    "        raise UserDoesNotExist\n",
    "    if user.expired == True:\n",
    "        raise UserAccessExpired\n",
    "    if user.role is not ADMIN:\n",
    "        raise UserNoPermission\n",
    "\n",
    "    return SECRET\n",
    "    \n",
    "#     except UserDoesNotExist:\n",
    "#         print(\"User Doesn't Exist\")\n",
    "#     except UserNoPermission:\n",
    "#         print(\"User is not Admin\")\n",
    "#     except UserAccessExpired:\n",
    "#         print('User is Expired')\n"
   ]
  },
  {
   "cell_type": "code",
   "execution_count": 67,
   "metadata": {},
   "outputs": [
    {
     "name": "stdout",
     "output_type": "stream",
     "text": [
      "This is a bad Exception\n"
     ]
    },
    {
     "ename": "UserDoesNotExist",
     "evalue": "",
     "output_type": "error",
     "traceback": [
      "\u001b[0;31m---------------------------------------------------------------------------\u001b[0m",
      "\u001b[0;31mUserDoesNotExist\u001b[0m                          Traceback (most recent call last)",
      "\u001b[0;32m<ipython-input-67-9630c2777371>\u001b[0m in \u001b[0;36m<module>\u001b[0;34m\u001b[0m\n\u001b[0;32m----> 1\u001b[0;31m \u001b[0mget_secret_token\u001b[0m\u001b[0;34m(\u001b[0m\u001b[0;34m'karim'\u001b[0m\u001b[0;34m)\u001b[0m\u001b[0;34m\u001b[0m\u001b[0m\n\u001b[0m",
      "\u001b[0;32m<ipython-input-66-1b59805d3cd7>\u001b[0m in \u001b[0;36mget_secret_token\u001b[0;34m(username)\u001b[0m\n\u001b[1;32m     23\u001b[0m     \u001b[0muser\u001b[0m \u001b[0;34m=\u001b[0m \u001b[0m_get_user\u001b[0m\u001b[0;34m(\u001b[0m\u001b[0musername\u001b[0m\u001b[0;34m)\u001b[0m\u001b[0;34m\u001b[0m\u001b[0m\n\u001b[1;32m     24\u001b[0m     \u001b[0;32mif\u001b[0m \u001b[0;32mnot\u001b[0m \u001b[0muser\u001b[0m\u001b[0;34m:\u001b[0m\u001b[0;34m\u001b[0m\u001b[0m\n\u001b[0;32m---> 25\u001b[0;31m         \u001b[0;32mraise\u001b[0m \u001b[0mUserDoesNotExist\u001b[0m\u001b[0;34m\u001b[0m\u001b[0m\n\u001b[0m\u001b[1;32m     26\u001b[0m     \u001b[0;32mif\u001b[0m \u001b[0muser\u001b[0m\u001b[0;34m.\u001b[0m\u001b[0mexpired\u001b[0m \u001b[0;34m==\u001b[0m \u001b[0;32mTrue\u001b[0m\u001b[0;34m:\u001b[0m\u001b[0;34m\u001b[0m\u001b[0m\n\u001b[1;32m     27\u001b[0m         \u001b[0;32mraise\u001b[0m \u001b[0mUserAccessExpired\u001b[0m\u001b[0;34m\u001b[0m\u001b[0m\n",
      "\u001b[0;31mUserDoesNotExist\u001b[0m: "
     ]
    }
   ],
   "source": [
    "get_secret_token('karim')"
   ]
  },
  {
   "cell_type": "code",
   "execution_count": null,
   "metadata": {},
   "outputs": [],
   "source": []
  }
 ],
 "metadata": {
  "kernelspec": {
   "display_name": "Python 3",
   "language": "python",
   "name": "python3"
  },
  "language_info": {
   "codemirror_mode": {
    "name": "ipython",
    "version": 3
   },
   "file_extension": ".py",
   "mimetype": "text/x-python",
   "name": "python",
   "nbconvert_exporter": "python",
   "pygments_lexer": "ipython3",
   "version": "3.6.5"
  }
 },
 "nbformat": 4,
 "nbformat_minor": 2
}
