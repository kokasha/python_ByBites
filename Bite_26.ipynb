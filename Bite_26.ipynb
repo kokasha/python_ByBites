{
 "cells": [
  {
   "cell_type": "code",
   "execution_count": 11,
   "metadata": {},
   "outputs": [],
   "source": [
    "bites = {6: 'PyBites Die Hard',\n",
    "         7: 'Parsing dates from logs',\n",
    "         9: 'Palindromes',\n",
    "         10: 'Practice exceptions',\n",
    "         11: 'Enrich a class with dunder methods',\n",
    "         12: 'Write a user validation function',\n",
    "         13: 'Convert dict in namedtuple/json',\n",
    "         14: 'Generate a table of n sequences',\n",
    "         15: 'Enumerate 2 sequences',\n",
    "         16: 'Special PyBites date generator',\n",
    "         17: 'Form teams from a group of friends',\n",
    "         18: 'Find the most common word',\n",
    "         19: 'Write a simple property',\n",
    "         20: 'Write a context manager',\n",
    "         21: 'Query a nested data structure'}\n",
    "exclude_bites = {6, 10, 16, 18, 21}\n",
    "\n",
    "\n",
    "def filter_bites(bites=bites, bites_done=exclude_bites):\n",
    "    \"\"\"return the bites dict with the exclude_bites filtered out\"\"\"\n",
    "    return {bite: bites[bite] for bite in bites.copy() if bite not in exclude_bites}"
   ]
  },
  {
   "cell_type": "code",
   "execution_count": 12,
   "metadata": {},
   "outputs": [
    {
     "data": {
      "text/plain": [
       "{7: 'Parsing dates from logs',\n",
       " 9: 'Palindromes',\n",
       " 11: 'Enrich a class with dunder methods',\n",
       " 12: 'Write a user validation function',\n",
       " 13: 'Convert dict in namedtuple/json',\n",
       " 14: 'Generate a table of n sequences',\n",
       " 15: 'Enumerate 2 sequences',\n",
       " 17: 'Form teams from a group of friends',\n",
       " 19: 'Write a simple property',\n",
       " 20: 'Write a context manager'}"
      ]
     },
     "execution_count": 12,
     "metadata": {},
     "output_type": "execute_result"
    }
   ],
   "source": [
    "filter_bites()"
   ]
  },
  {
   "cell_type": "code",
   "execution_count": 3,
   "metadata": {},
   "outputs": [
    {
     "data": {
      "text/plain": [
       "{7: 'Parsing dates from logs',\n",
       " 9: 'Palindromes',\n",
       " 10: 'Practice exceptions',\n",
       " 11: 'Enrich a class with dunder methods',\n",
       " 12: 'Write a user validation function',\n",
       " 13: 'Convert dict in namedtuple/json',\n",
       " 14: 'Generate a table of n sequences',\n",
       " 15: 'Enumerate 2 sequences',\n",
       " 16: 'Special PyBites date generator',\n",
       " 17: 'Form teams from a group of friends',\n",
       " 18: 'Find the most common word',\n",
       " 19: 'Write a simple property',\n",
       " 20: 'Write a context manager',\n",
       " 21: 'Query a nested data structure'}"
      ]
     },
     "execution_count": 3,
     "metadata": {},
     "output_type": "execute_result"
    }
   ],
   "source": [
    "bites"
   ]
  },
  {
   "cell_type": "code",
   "execution_count": null,
   "metadata": {},
   "outputs": [],
   "source": []
  }
 ],
 "metadata": {
  "kernelspec": {
   "display_name": "Python 3",
   "language": "python",
   "name": "python3"
  },
  "language_info": {
   "codemirror_mode": {
    "name": "ipython",
    "version": 3
   },
   "file_extension": ".py",
   "mimetype": "text/x-python",
   "name": "python",
   "nbconvert_exporter": "python",
   "pygments_lexer": "ipython3",
   "version": "3.6.5"
  }
 },
 "nbformat": 4,
 "nbformat_minor": 2
}
