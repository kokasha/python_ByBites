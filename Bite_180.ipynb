{
 "cells": [
  {
   "cell_type": "code",
   "execution_count": 21,
   "metadata": {},
   "outputs": [],
   "source": [
    "from collections import defaultdict\n",
    "\n",
    "# fake data from https://www.mockaroo.com\n",
    "data = \"\"\"last_name,first_name,country_code\n",
    "Watsham,Husain,ID\n",
    "Harrold,Alphonso,BR\n",
    "Apdell,Margo,CN\n",
    "Tomblings,Deerdre,RU\n",
    "Wasielewski,Sula,ID\n",
    "Jeffry,Rudolph,TD\n",
    "Brenston,Luke,SE\n",
    "Parrett,Ines,CN\n",
    "Braunle,Kermit,PL\n",
    "Halbard,Davie,CN\"\"\"\n",
    "\n",
    "\n",
    "def group_names_by_country(data: str = data) -> defaultdict:\n",
    "    countries = defaultdict(list)\n",
    "    for line_num,line in enumerate(data.split('\\n')):\n",
    "        if line_num == 0: continue\n",
    "        lastname,fname,country = line.split(',')\n",
    "        countries[country].append(f'{fname} {lastname}')\n",
    "    return countries"
   ]
  },
  {
   "cell_type": "code",
   "execution_count": 22,
   "metadata": {},
   "outputs": [
    {
     "data": {
      "text/plain": [
       "defaultdict(list,\n",
       "            {'ID': ['Husain Watsham', 'Sula Wasielewski'],\n",
       "             'BR': ['Alphonso Harrold'],\n",
       "             'CN': ['Margo Apdell', 'Ines Parrett', 'Davie Halbard'],\n",
       "             'RU': ['Deerdre Tomblings'],\n",
       "             'TD': ['Rudolph Jeffry'],\n",
       "             'SE': ['Luke Brenston'],\n",
       "             'PL': ['Kermit Braunle']})"
      ]
     },
     "execution_count": 22,
     "metadata": {},
     "output_type": "execute_result"
    }
   ],
   "source": [
    "group_names_by_country()"
   ]
  },
  {
   "cell_type": "code",
   "execution_count": 12,
   "metadata": {},
   "outputs": [
    {
     "name": "stdout",
     "output_type": "stream",
     "text": [
      "Watsham,Husain,ID\n",
      "Harrold,Alphonso,BR\n",
      "Apdell,Margo,CN\n",
      "Tomblings,Deerdre,RU\n",
      "Wasielewski,Sula,ID\n",
      "Jeffry,Rudolph,TD\n",
      "Brenston,Luke,SE\n",
      "Parrett,Ines,CN\n",
      "Braunle,Kermit,PL\n",
      "Halbard,Davie,CN\n"
     ]
    }
   ],
   "source": [
    "read_data()"
   ]
  },
  {
   "cell_type": "code",
   "execution_count": null,
   "metadata": {},
   "outputs": [],
   "source": []
  }
 ],
 "metadata": {
  "kernelspec": {
   "display_name": "Python 3",
   "language": "python",
   "name": "python3"
  },
  "language_info": {
   "codemirror_mode": {
    "name": "ipython",
    "version": 3
   },
   "file_extension": ".py",
   "mimetype": "text/x-python",
   "name": "python",
   "nbconvert_exporter": "python",
   "pygments_lexer": "ipython3",
   "version": "3.6.5"
  }
 },
 "nbformat": 4,
 "nbformat_minor": 2
}
