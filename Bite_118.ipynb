{
 "cells": [
  {
   "cell_type": "code",
   "execution_count": 1,
   "metadata": {},
   "outputs": [],
   "source": [
    "from collections import Counter"
   ]
  },
  {
   "cell_type": "code",
   "execution_count": 2,
   "metadata": {},
   "outputs": [],
   "source": [
    "words = 'is it true or is it not'.split()"
   ]
  },
  {
   "cell_type": "code",
   "execution_count": 10,
   "metadata": {},
   "outputs": [
    {
     "data": {
      "text/plain": [
       "1"
      ]
     },
     "execution_count": 10,
     "metadata": {},
     "output_type": "execute_result"
    }
   ],
   "source": [
    "words.index(\"it\")"
   ]
  },
  {
   "cell_type": "code",
   "execution_count": 4,
   "metadata": {},
   "outputs": [],
   "source": [
    "c = Counter(words)"
   ]
  },
  {
   "cell_type": "code",
   "execution_count": 39,
   "metadata": {},
   "outputs": [],
   "source": [
    "def get_duplicate_indices(words):\n",
    "    \"\"\"Given a list of words, loop through the words and check for each\n",
    "       word if it occurs more than once.\n",
    "       If so return the index of its first ocurrence.\n",
    "       For example in the following list 'is' and 'it'\n",
    "       occurr more than once, and they are at indices 0 and 1 so you would\n",
    "       return [0, 1]:\n",
    "       ['is', 'it', 'true', 'or', 'is', 'it', 'not?'] => [0, 1]\n",
    "       Make sure the returning list is unique and sorted in ascending order.\"\"\"\n",
    "    return sorted([ words.index(w[0]) for w in Counter(words).most_common() if w[1] >= 2])      \n",
    "     "
   ]
  },
  {
   "cell_type": "code",
   "execution_count": 40,
   "metadata": {},
   "outputs": [
    {
     "data": {
      "text/plain": [
       "[3, 6, 7, 17, 22, 32]"
      ]
     },
     "execution_count": 40,
     "metadata": {},
     "output_type": "execute_result"
    }
   ],
   "source": [
    "get_duplicate_indices(words)"
   ]
  },
  {
   "cell_type": "code",
   "execution_count": 13,
   "metadata": {},
   "outputs": [],
   "source": [
    "l = c.most_common()"
   ]
  },
  {
   "cell_type": "code",
   "execution_count": 22,
   "metadata": {},
   "outputs": [
    {
     "name": "stdout",
     "output_type": "stream",
     "text": [
      "('is', 2) 2\n",
      "true\n",
      "('it', 2) 2\n",
      "true\n",
      "('true', 1) 1\n",
      "('or', 1) 1\n",
      "('not', 1) 1\n"
     ]
    }
   ],
   "source": [
    "result = list()\n",
    "for i in l:\n",
    "    print(i,i[1])\n",
    "    if i[1] >= 2:\n",
    "        print('true')\n",
    "        result.append(words.index(i[0]))"
   ]
  },
  {
   "cell_type": "code",
   "execution_count": 23,
   "metadata": {},
   "outputs": [
    {
     "data": {
      "text/plain": [
       "[0, 1]"
      ]
     },
     "execution_count": 23,
     "metadata": {},
     "output_type": "execute_result"
    }
   ],
   "source": [
    "result"
   ]
  },
  {
   "cell_type": "code",
   "execution_count": 33,
   "metadata": {},
   "outputs": [],
   "source": [
    "words = ('List comprehensions provide a concise way to create '\n",
    "                 'lists. Common applications are to make new lists where '\n",
    "                 'each element is the result of some operations applied '\n",
    "                 'to each member of another sequence or iterable, or to '\n",
    "                 'create a subsequence of those elements that satisfy a '\n",
    "                 'certain condition').split()"
   ]
  },
  {
   "cell_type": "code",
   "execution_count": 41,
   "metadata": {},
   "outputs": [],
   "source": [
    "#### Another Solution\n",
    "def get_duplicate_indices(words):\n",
    "    \"\"\"Given a list of words, loop through the words and check for each\n",
    "       word if it occurs more than once.\n",
    "       If so return the index of its first ocurrence.\n",
    "       For example in the following list 'is' and 'it'\n",
    "       occurr more than once, and they are at indices 0 and 1 so you would\n",
    "       return [0, 1]:\n",
    "       ['is', 'it', 'true', 'or', 'is', 'it', 'not?'] => [0, 1]\n",
    "       Make sure the returning list is unique and sorted in ascending order.\"\"\"\n",
    "    duplicate_words = {word for word in words if words.count(word) > 1}\n",
    "    return sorted([words.index(word) for word in duplicate_words])"
   ]
  },
  {
   "cell_type": "code",
   "execution_count": null,
   "metadata": {},
   "outputs": [],
   "source": []
  }
 ],
 "metadata": {
  "kernelspec": {
   "display_name": "Python 3",
   "language": "python",
   "name": "python3"
  },
  "language_info": {
   "codemirror_mode": {
    "name": "ipython",
    "version": 3
   },
   "file_extension": ".py",
   "mimetype": "text/x-python",
   "name": "python",
   "nbconvert_exporter": "python",
   "pygments_lexer": "ipython3",
   "version": "3.6.5"
  }
 },
 "nbformat": 4,
 "nbformat_minor": 2
}
