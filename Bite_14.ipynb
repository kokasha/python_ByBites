{
 "cells": [
  {
   "cell_type": "code",
   "execution_count": 1,
   "metadata": {},
   "outputs": [],
   "source": [
    "import random"
   ]
  },
  {
   "cell_type": "code",
   "execution_count": 6,
   "metadata": {},
   "outputs": [],
   "source": [
    "x = random.sample(range(10,20),4)"
   ]
  },
  {
   "cell_type": "code",
   "execution_count": 7,
   "metadata": {},
   "outputs": [
    {
     "data": {
      "text/plain": [
       "[14, 15, 17, 18]"
      ]
     },
     "execution_count": 7,
     "metadata": {},
     "output_type": "execute_result"
    }
   ],
   "source": [
    "x"
   ]
  },
  {
   "cell_type": "code",
   "execution_count": 8,
   "metadata": {},
   "outputs": [],
   "source": [
    "name = 'karim omr nour mahy'.split()\n",
    "age = '36 6 5 33'.split()\n",
    "points = random.sample(range(10,30),4)"
   ]
  },
  {
   "cell_type": "code",
   "execution_count": 9,
   "metadata": {},
   "outputs": [
    {
     "data": {
      "text/plain": [
       "[22, 17, 25, 19]"
      ]
     },
     "execution_count": 9,
     "metadata": {},
     "output_type": "execute_result"
    }
   ],
   "source": [
    "points"
   ]
  },
  {
   "cell_type": "code",
   "execution_count": 12,
   "metadata": {},
   "outputs": [
    {
     "name": "stdout",
     "output_type": "stream",
     "text": [
      "karim 36 22\n",
      "omr 6 17\n",
      "nour 5 25\n",
      "mahy 33 19\n"
     ]
    }
   ],
   "source": [
    "for n,a,p in zip(name,age,points):\n",
    "    print(n,a,p)"
   ]
  },
  {
   "cell_type": "code",
   "execution_count": 52,
   "metadata": {},
   "outputs": [],
   "source": [
    "names = 'Julian Bob PyBites Dante Martin Rodolfo'.split()\n",
    "aliases = 'Pythonista Nerd Coder'.split() * 2\n",
    "points = random.sample(range(81, 101), 6)\n",
    "awake = [True, False] * 3\n",
    "SEPARATOR = ' | '"
   ]
  },
  {
   "cell_type": "code",
   "execution_count": 93,
   "metadata": {},
   "outputs": [],
   "source": [
    "def generate_table(*args):\n",
    "#     print(len(args))\n",
    "#     for i,v  in enumerate(args):\n",
    "#         print(i,v)\n",
    "    if len(args) == 1:\n",
    "        print(args)\n",
    "        print(args[0])\n",
    "        return zip(args[0])\n",
    "    else:\n",
    "        x = zip(*args)\n",
    "        yield [' | '.join([str(i) for i in k]) for k in x]\n",
    "    "
   ]
  },
  {
   "cell_type": "code",
   "execution_count": 94,
   "metadata": {},
   "outputs": [
    {
     "name": "stdout",
     "output_type": "stream",
     "text": [
      "(['Julian', 'Bob', 'PyBites', 'Dante', 'Martin', 'Rodolfo'],)\n",
      "['Julian', 'Bob', 'PyBites', 'Dante', 'Martin', 'Rodolfo']\n"
     ]
    }
   ],
   "source": [
    "table1 = list(generate_table(names))\n",
    "table2 = list(generate_table(names, aliases))\n",
    "table3 = list(generate_table(names, aliases, points))\n",
    "table4 = list(generate_table(names, aliases, points, awake))"
   ]
  },
  {
   "cell_type": "code",
   "execution_count": 95,
   "metadata": {},
   "outputs": [
    {
     "data": {
      "text/plain": [
       "[]"
      ]
     },
     "execution_count": 95,
     "metadata": {},
     "output_type": "execute_result"
    }
   ],
   "source": [
    "table1"
   ]
  },
  {
   "cell_type": "code",
   "execution_count": 86,
   "metadata": {},
   "outputs": [],
   "source": [
    "x = zip(names)\n"
   ]
  },
  {
   "cell_type": "code",
   "execution_count": 87,
   "metadata": {},
   "outputs": [
    {
     "data": {
      "text/plain": [
       "[('Julian',), ('Bob',), ('PyBites',), ('Dante',), ('Martin',), ('Rodolfo',)]"
      ]
     },
     "execution_count": 87,
     "metadata": {},
     "output_type": "execute_result"
    }
   ],
   "source": [
    "list(x)"
   ]
  },
  {
   "cell_type": "code",
   "execution_count": null,
   "metadata": {},
   "outputs": [],
   "source": []
  }
 ],
 "metadata": {
  "kernelspec": {
   "display_name": "Python 3",
   "language": "python",
   "name": "python3"
  },
  "language_info": {
   "codemirror_mode": {
    "name": "ipython",
    "version": 3
   },
   "file_extension": ".py",
   "mimetype": "text/x-python",
   "name": "python",
   "nbconvert_exporter": "python",
   "pygments_lexer": "ipython3",
   "version": "3.7.1"
  }
 },
 "nbformat": 4,
 "nbformat_minor": 2
}
