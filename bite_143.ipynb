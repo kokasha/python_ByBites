{
 "cells": [
  {
   "cell_type": "code",
   "execution_count": 2,
   "metadata": {},
   "outputs": [],
   "source": [
    "from itertools import chain\n",
    "from collections import defaultdict, ChainMap\n",
    "\n",
    "NOT_FOUND = \"Not found\"\n",
    "\n",
    "group1 = {'tim': 30, 'bob': 17, 'ana': 24}\n",
    "group2 = {'ana': 26, 'thomas': 64, 'helen': 26}\n",
    "group3 = {'brenda': 17, 'otto': 44, 'thomas': 46}\n",
    "\n",
    "\n",
    "def get_person_age(name):\n",
    "    \"\"\"Look up name (case insensitive search) and return age.\n",
    "       If name in > 1 dict, return the match of the group with\n",
    "       greatest N (so group3 > group2 > group1)\n",
    "    \"\"\"\n",
    "    result = defaultdict(list)\n",
    "    for group in [group1,group2,group3]:\n",
    "        for item in group:\n",
    "            if not isinstance(name,str):\n",
    "                return NOT_FOUND\n",
    "            if name.lower() == item.lower():\n",
    "                result[name].append(group[item])\n",
    "                \n",
    "    final = result.get(name,NOT_FOUND)\n",
    "    if final == NOT_FOUND:\n",
    "        return NOT_FOUND\n",
    "    else:\n",
    "        return final[-1]\n",
    "        "
   ]
  },
  {
   "cell_type": "code",
   "execution_count": 60,
   "metadata": {},
   "outputs": [],
   "source": [
    "def get_person_age(name):\n",
    "    \"\"\"Look up name (case insensitive search) and return age.\n",
    "       If name in > 1 dict, return the match of the group with\n",
    "       greatest N (so group3 > group2 > group1)\n",
    "    \"\"\"\n",
    "    name = str(name).lower()\n",
    "    result = defaultdict(list)\n",
    "    for group in [group1,group2,group3]:\n",
    "        {result[k].append(v) for k,v in group.items()}\n",
    "    if name not in result.keys():\n",
    "        return NOT_FOUND\n",
    "    else:\n",
    "        return result[name][-1]"
   ]
  },
  {
   "cell_type": "code",
   "execution_count": 62,
   "metadata": {},
   "outputs": [
    {
     "data": {
      "text/plain": [
       "26"
      ]
     },
     "execution_count": 62,
     "metadata": {},
     "output_type": "execute_result"
    }
   ],
   "source": [
    "get_person_age('ana')"
   ]
  },
  {
   "cell_type": "code",
   "execution_count": 11,
   "metadata": {},
   "outputs": [
    {
     "data": {
      "text/plain": [
       "[{'tim': 30, 'bob': 17, 'ana': 24},\n",
       " {'ana': 26, 'thomas': 64, 'helen': 26},\n",
       " {'brenda': 17, 'otto': 44, 'thomas': 46}]"
      ]
     },
     "execution_count": 11,
     "metadata": {},
     "output_type": "execute_result"
    }
   ],
   "source": [
    "dx"
   ]
  },
  {
   "cell_type": "code",
   "execution_count": 48,
   "metadata": {},
   "outputs": [
    {
     "name": "stdout",
     "output_type": "stream",
     "text": [
      "[{'tim': 30, 'bob': 17, 'ana': 24}, {'ana': 26, 'thomas': 64, 'helen': 26}, {'brenda': 17, 'otto': 44, 'thomas': 46}]\n",
      "<class 'list'>\n"
     ]
    }
   ],
   "source": [
    "#### Good Solution\n",
    "m = ChainMap(group1,group2,group3)\n",
    "print(m.maps)\n",
    "print(type(m.maps))"
   ]
  },
  {
   "cell_type": "code",
   "execution_count": 3,
   "metadata": {},
   "outputs": [],
   "source": [
    "groups = {**group3,**group2}"
   ]
  },
  {
   "cell_type": "code",
   "execution_count": 4,
   "metadata": {},
   "outputs": [
    {
     "data": {
      "text/plain": [
       "{'brenda': 17, 'otto': 44, 'thomas': 64, 'ana': 26, 'helen': 26}"
      ]
     },
     "execution_count": 4,
     "metadata": {},
     "output_type": "execute_result"
    }
   ],
   "source": [
    "groups"
   ]
  },
  {
   "cell_type": "code",
   "execution_count": 5,
   "metadata": {},
   "outputs": [],
   "source": [
    "def get_person_age(name):    \n",
    "    name = str(name).lower()\n",
    "    result = {}\n",
    "    for group in [group1,group2,group3]:\n",
    "        \n",
    "        return {k: v for k,v in group.items()}"
   ]
  },
  {
   "cell_type": "code",
   "execution_count": 6,
   "metadata": {},
   "outputs": [
    {
     "data": {
      "text/plain": [
       "{'tim': 30, 'bob': 17, 'ana': 24}"
      ]
     },
     "execution_count": 6,
     "metadata": {},
     "output_type": "execute_result"
    }
   ],
   "source": [
    "get_person_age('ana')"
   ]
  },
  {
   "cell_type": "code",
   "execution_count": 85,
   "metadata": {},
   "outputs": [],
   "source": [
    "numbers = [1,2,3,4,5]\n",
    "new_dict = [num**2 for num in numbers]"
   ]
  },
  {
   "cell_type": "code",
   "execution_count": 86,
   "metadata": {},
   "outputs": [
    {
     "data": {
      "text/plain": [
       "[1, 4, 9, 16, 25]"
      ]
     },
     "execution_count": 86,
     "metadata": {},
     "output_type": "execute_result"
    }
   ],
   "source": [
    "new_dict"
   ]
  },
  {
   "cell_type": "code",
   "execution_count": 7,
   "metadata": {},
   "outputs": [],
   "source": [
    "group1 = {'tim': 30, 'bob': 17, 'ana': 24}\n",
    "group2 = {'ana': 26, 'thomas': 64, 'helen': 26}\n",
    "group3 = {'brenda': 17, 'otto': 44, 'thomas': 46}\n",
    "\n",
    "\n",
    "groupx = [group1, group2,group3]"
   ]
  },
  {
   "cell_type": "code",
   "execution_count": 8,
   "metadata": {},
   "outputs": [
    {
     "data": {
      "text/plain": [
       "[{'tim': 30, 'bob': 17, 'ana': 24},\n",
       " {'ana': 26, 'thomas': 64, 'helen': 26},\n",
       " {'brenda': 17, 'otto': 44, 'thomas': 46}]"
      ]
     },
     "execution_count": 8,
     "metadata": {},
     "output_type": "execute_result"
    }
   ],
   "source": [
    "groupx"
   ]
  },
  {
   "cell_type": "code",
   "execution_count": 28,
   "metadata": {},
   "outputs": [
    {
     "data": {
      "text/plain": [
       "46"
      ]
     },
     "execution_count": 28,
     "metadata": {},
     "output_type": "execute_result"
    }
   ],
   "source": [
    "from collections import defaultdict,ChainMap\n",
    "\n",
    "m = ChainMap(group3,group2,group1)\n",
    "m.get('thomas')"
   ]
  },
  {
   "cell_type": "code",
   "execution_count": null,
   "metadata": {},
   "outputs": [],
   "source": []
  }
 ],
 "metadata": {
  "kernelspec": {
   "display_name": "Python 3",
   "language": "python",
   "name": "python3"
  },
  "language_info": {
   "codemirror_mode": {
    "name": "ipython",
    "version": 3
   },
   "file_extension": ".py",
   "mimetype": "text/x-python",
   "name": "python",
   "nbconvert_exporter": "python",
   "pygments_lexer": "ipython3",
   "version": "3.6.5"
  }
 },
 "nbformat": 4,
 "nbformat_minor": 2
}
