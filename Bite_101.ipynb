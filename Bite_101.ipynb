{
 "cells": [
  {
   "cell_type": "code",
   "execution_count": 3,
   "metadata": {},
   "outputs": [],
   "source": [
    "MIN_DRIVING_AGE = 18\n",
    "\n",
    "\n",
    "def allowed_driving(name, age):\n",
    "    \"\"\"Print '{name} is allowed to drive' or '{name} is not allowed to drive'\n",
    "       checking the passed in age against the MIN_DRIVING_AGE constant\"\"\"\n",
    "    if age >= MIN_DRIVING_AGE:\n",
    "        print(f'{name} is allowed to drive')\n",
    "    else:\n",
    "        print(f'{name} is not allowed to drive')"
   ]
  },
  {
   "cell_type": "code",
   "execution_count": 5,
   "metadata": {},
   "outputs": [
    {
     "name": "stdout",
     "output_type": "stream",
     "text": [
      "karim is not allowed to drive\n"
     ]
    }
   ],
   "source": [
    "allowed_driving('karim',17)"
   ]
  },
  {
   "cell_type": "code",
   "execution_count": 6,
   "metadata": {},
   "outputs": [],
   "source": [
    "VALID_COLORS = ['blue', 'yellow', 'red']\n",
    "\n",
    "\n",
    "def print_colors():\n",
    "    \"\"\"In the while loop ask the user to enter a color,\n",
    "       lowercase it and store it in a variable. Next check: \n",
    "       - if 'quit' was entered for color, print 'bye' and break. \n",
    "       - if the color is not in VALID_COLORS, print 'Not a valid color' and continue.\n",
    "       - otherwise print the color in lower case.\"\"\"\n",
    "    while True:\n",
    "        color = input('Please select a color: ')\n",
    "        if color == 'quit':\n",
    "            break\n",
    "        if color in VALID_COLORS: print(color.lower())\n",
    "        else: print('Not a Valid color')\n",
    "        "
   ]
  },
  {
   "cell_type": "code",
   "execution_count": 8,
   "metadata": {},
   "outputs": [
    {
     "name": "stdout",
     "output_type": "stream",
     "text": [
      "Please select a color: blue\n",
      "blue\n",
      "Please select a color: green\n",
      "Not a Valid color\n",
      "Please select a color: test\n",
      "Not a Valid color\n",
      "Please select a color: red\n",
      "red\n",
      "Please select a color: test\n",
      "Not a Valid color\n",
      "Please select a color: quit\n"
     ]
    }
   ],
   "source": [
    "print_colors()"
   ]
  },
  {
   "cell_type": "code",
   "execution_count": 18,
   "metadata": {},
   "outputs": [],
   "source": [
    "games_won = dict(sara=0, bob=1, tim=5, julian=3, jim=1)\n",
    "\n",
    "\n",
    "def print_game_stats(games_won=games_won):\n",
    "    \"\"\"Loop through games_won's dict (key, value) pairs (dict.items)\n",
    "       printing (print, not return) how many games each person has won,\n",
    "       pluralize 'game' based on number.\n",
    "\n",
    "       Expected output (ignore the docstring's indentation):\n",
    "\n",
    "       sara has won 0 games\n",
    "       bob has won 1 game\n",
    "       tim has won 5 games\n",
    "       julian has won 3 games\n",
    "       jim has won 1 game\n",
    "    \"\"\"\n",
    "    for player,games in games_won.items():\n",
    "        str_game = 'game' if games == 1 else 'games'\n",
    "        print(f'{player} has won {games} {str_game}')\n",
    "\n"
   ]
  },
  {
   "cell_type": "code",
   "execution_count": 19,
   "metadata": {},
   "outputs": [
    {
     "name": "stdout",
     "output_type": "stream",
     "text": [
      "sara has won 0 games\n",
      "bob has won 1 game\n",
      "tim has won 5 games\n",
      "julian has won 3 games\n",
      "jim has won 1 game\n"
     ]
    }
   ],
   "source": [
    "print_game_stats(games_won)"
   ]
  },
  {
   "cell_type": "code",
   "execution_count": 20,
   "metadata": {},
   "outputs": [],
   "source": [
    "message = \"\"\"Hello world!\n",
    "We hope that you are learning a lot of Python.\n",
    "Have fun with our Bites of Py.\n",
    "Keep calm and code in Python!\n",
    "Become a PyBites ninja!\"\"\"\n",
    "\n",
    "def split_in_columns(message=message):\n",
    "    \"\"\"Split the message by newline (\\n) and join it together on '|'\n",
    "       (pipe), return the obtained output\"\"\"\n",
    "    lines = message.splitlines()\n",
    "    return '|'.join(lines)"
   ]
  },
  {
   "cell_type": "code",
   "execution_count": 21,
   "metadata": {},
   "outputs": [
    {
     "data": {
      "text/plain": [
       "'Hello world!|We hope that you are learning a lot of Python.|Have fun with our Bites of Py.|Keep calm and code in Python!|Become a PyBites ninja!'"
      ]
     },
     "execution_count": 21,
     "metadata": {},
     "output_type": "execute_result"
    }
   ],
   "source": [
    "split_in_columns(message)"
   ]
  },
  {
   "cell_type": "code",
   "execution_count": 40,
   "metadata": {},
   "outputs": [],
   "source": [
    "from string import ascii_lowercase\n",
    "\n",
    "text = \"\"\"\n",
    "One really nice feature of Python is polymorphism: using the same operation\n",
    "on different types of objects.\n",
    "Let's talk about an elegant feature: slicing.\n",
    "You can use this on a string as well as a list for example\n",
    "'pybites'[0:2] gives 'py'.\n",
    "The first value is inclusive and the last one is exclusive so\n",
    "here we grab indexes 0 and 1, the letter p and y.\n",
    "When you have a 0 index you can leave it out so can write this as 'pybites'[:2]\n",
    "but here is the kicker: you can use this on a list too!\n",
    "['pybites', 'teaches', 'you', 'Python'][-2:] would gives ['you', 'Python']\n",
    "and now you know about slicing from the end as well :)\n",
    "keep enjoying our bites!\n",
    "\"\"\"\n",
    "\n",
    "\n",
    "def slice_and_dice(text=text):\n",
    "    \"\"\"Strip the whitespace (newlines) off text at both ends,\n",
    "       split the text string on newline (\\n).\n",
    "       Next check if the first char of each (stripped) line is lowercase,\n",
    "       if so split the line into words and append the last word to\n",
    "       the results list. Make sure that you strip off any trailing\n",
    "       exclamation marks (!) and dots (.), Return the results list.\"\"\"\n",
    "    results = []\n",
    "    lines = text.strip().splitlines()\n",
    "    for line in lines:\n",
    "        if line.strip()[0] in ascii_lowercase:\n",
    "            words = line.split(' ')\n",
    "            results.append(words[-1].strip('.!'))\n",
    "    return results"
   ]
  },
  {
   "cell_type": "code",
   "execution_count": 41,
   "metadata": {},
   "outputs": [
    {
     "data": {
      "text/plain": [
       "['objects', 'y', 'too', ':)', 'bites']"
      ]
     },
     "execution_count": 41,
     "metadata": {},
     "output_type": "execute_result"
    }
   ],
   "source": [
    "slice_and_dice(text)"
   ]
  },
  {
   "cell_type": "code",
   "execution_count": 52,
   "metadata": {},
   "outputs": [],
   "source": [
    "def filter_positive_even_numbers(numbers):\n",
    "    \"\"\"Receives a list of numbers, and filters out numbers that\n",
    "       are both positive and even (divisible by 2), try to use a\n",
    "       list comprehension\"\"\"\n",
    "    return [num for num in numbers if (num % 2 == 0 and num > 0)]"
   ]
  },
  {
   "cell_type": "code",
   "execution_count": 53,
   "metadata": {},
   "outputs": [
    {
     "data": {
      "text/plain": [
       "[2, 4, 6, 8, 10]"
      ]
     },
     "execution_count": 53,
     "metadata": {},
     "output_type": "execute_result"
    }
   ],
   "source": [
    "filter_positive_even_numbers(range(-10,11))"
   ]
  },
  {
   "cell_type": "code",
   "execution_count": 46,
   "metadata": {},
   "outputs": [
    {
     "data": {
      "text/plain": [
       "0"
      ]
     },
     "execution_count": 46,
     "metadata": {},
     "output_type": "execute_result"
    }
   ],
   "source": [
    "-2 % 2"
   ]
  },
  {
   "cell_type": "code",
   "execution_count": 47,
   "metadata": {},
   "outputs": [
    {
     "data": {
      "text/plain": [
       "0"
      ]
     },
     "execution_count": 47,
     "metadata": {},
     "output_type": "execute_result"
    }
   ],
   "source": [
    "0 % 2"
   ]
  },
  {
   "cell_type": "code",
   "execution_count": 61,
   "metadata": {},
   "outputs": [],
   "source": [
    "from collections import namedtuple\n",
    "\n",
    "BeltStats = namedtuple('BeltStats', 'score ninjas')\n",
    "\n",
    "ninja_belts = {'yellow': BeltStats(50, 11),\n",
    "               'orange': BeltStats(100, 7),\n",
    "               'green': BeltStats(175, 1),\n",
    "               'blue': BeltStats(250, 5),\n",
    "              'brown': BeltStats(400, 2),\n",
    "              'black': BeltStats(600, 5)}\n",
    "\n",
    "\n",
    "def get_total_points(belts=ninja_belts):\n",
    "    \"\"\"Calculate the amount of points rewarded on PyBites given the\n",
    "       ninja_belts dictionary, formula: belt score x belt owners (aka ninjas)\n",
    "       (of course there are more points but let's keep it simple)\n",
    "\n",
    "       Make your code generic so if we update ninja_belts to include\n",
    "       more belts (which we do in the tests) it will still work.\n",
    "\n",
    "       Ah and you can get score and ninjas from the namedtuple with nice\n",
    "       attribute access: belt.score / belt.ninjas (reason why we get\n",
    "       you familiar with namedtuple here, because we love them and use\n",
    "       them all over the place!)\n",
    "\n",
    "       Return the total number of points int from the function.\"\"\"\n",
    "    scores = [ stats.score * stats.ninjas for stats in ninja_belts.values()]\n",
    "    return(sum(scores))"
   ]
  },
  {
   "cell_type": "code",
   "execution_count": 62,
   "metadata": {},
   "outputs": [
    {
     "data": {
      "text/plain": [
       "6475"
      ]
     },
     "execution_count": 62,
     "metadata": {},
     "output_type": "execute_result"
    }
   ],
   "source": [
    "get_total_points()"
   ]
  },
  {
   "cell_type": "code",
   "execution_count": null,
   "metadata": {},
   "outputs": [],
   "source": []
  }
 ],
 "metadata": {
  "kernelspec": {
   "display_name": "Python 3",
   "language": "python",
   "name": "python3"
  },
  "language_info": {
   "codemirror_mode": {
    "name": "ipython",
    "version": 3
   },
   "file_extension": ".py",
   "mimetype": "text/x-python",
   "name": "python",
   "nbconvert_exporter": "python",
   "pygments_lexer": "ipython3",
   "version": "3.6.5"
  }
 },
 "nbformat": 4,
 "nbformat_minor": 2
}
