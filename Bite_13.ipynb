{
 "cells": [
  {
   "cell_type": "code",
   "execution_count": 4,
   "metadata": {},
   "outputs": [],
   "source": [
    "from collections import namedtuple\n",
    "from datetime import datetime\n",
    "import json\n",
    "\n",
    "blog = dict(name='PyBites',\n",
    "            founders=('Julian', 'Bob'),\n",
    "            started=datetime(year=2016, month=12, day=19),\n",
    "            tags=['Python', 'Code Challenges', 'Learn by Doing'],\n",
    "            location='Spain/Australia',\n",
    "            site='https://pybit.es')"
   ]
  },
  {
   "cell_type": "code",
   "execution_count": 5,
   "metadata": {},
   "outputs": [
    {
     "data": {
      "text/plain": [
       "{'name': 'PyBites',\n",
       " 'founders': ('Julian', 'Bob'),\n",
       " 'started': datetime.datetime(2016, 12, 19, 0, 0),\n",
       " 'tags': ['Python', 'Code Challenges', 'Learn by Doing'],\n",
       " 'location': 'Spain/Australia',\n",
       " 'site': 'https://pybit.es'}"
      ]
     },
     "execution_count": 5,
     "metadata": {},
     "output_type": "execute_result"
    }
   ],
   "source": [
    "blog"
   ]
  },
  {
   "cell_type": "code",
   "execution_count": 100,
   "metadata": {},
   "outputs": [
    {
     "data": {
      "text/plain": [
       "<property at 0x109070ea8>"
      ]
     },
     "execution_count": 100,
     "metadata": {},
     "output_type": "execute_result"
    }
   ],
   "source": [
    "nt_fields = \" \".join(list(blog.keys()))\n",
    "Blog = namedtuple('Blog' ,\" \".join(list(blog.keys())))\n",
    "Blog.started"
   ]
  },
  {
   "cell_type": "code",
   "execution_count": 72,
   "metadata": {},
   "outputs": [],
   "source": [
    "def dict2nt(dict_):\n",
    "    Blog = namedtuple('Blog',\" \".join(list(dict_.keys())))\n",
    "    return Blog(*dict_.values())"
   ]
  },
  {
   "cell_type": "code",
   "execution_count": 74,
   "metadata": {},
   "outputs": [
    {
     "data": {
      "text/plain": [
       "Blog(name='PyBites', founders=('Julian', 'Bob'), started=datetime.datetime(2016, 12, 19, 0, 0), tags=['Python', 'Code Challenges', 'Learn by Doing'], location='Spain/Australia', site='https://pybit.es')"
      ]
     },
     "execution_count": 74,
     "metadata": {},
     "output_type": "execute_result"
    }
   ],
   "source": [
    "x = dict2nt(blog)\n",
    "x"
   ]
  },
  {
   "cell_type": "code",
   "execution_count": 51,
   "metadata": {},
   "outputs": [],
   "source": [
    "Blog = namedtuple('Blog' , nt_fields)\n",
    "x = Blog(*dict_.values())"
   ]
  },
  {
   "cell_type": "code",
   "execution_count": 98,
   "metadata": {},
   "outputs": [],
   "source": [
    "def nt2json(nt):\n",
    "    return json.dumps(blog,default=str)"
   ]
  },
  {
   "cell_type": "code",
   "execution_count": 99,
   "metadata": {},
   "outputs": [
    {
     "data": {
      "text/plain": [
       "'{\"name\": \"PyBites\", \"founders\": [\"Julian\", \"Bob\"], \"started\": \"2016-12-19 00:00:00\", \"tags\": [\"Python\", \"Code Challenges\", \"Learn by Doing\"], \"location\": \"Spain/Australia\", \"site\": \"https://pybit.es\"}'"
      ]
     },
     "execution_count": 99,
     "metadata": {},
     "output_type": "execute_result"
    }
   ],
   "source": [
    "y = nt2json(x)\n",
    "y"
   ]
  },
  {
   "cell_type": "code",
   "execution_count": 97,
   "metadata": {},
   "outputs": [
    {
     "data": {
      "text/plain": [
       "'2016-12-19 00:00:00'"
      ]
     },
     "execution_count": 97,
     "metadata": {},
     "output_type": "execute_result"
    }
   ],
   "source": [
    "x = str(blog[\"started\"])\n",
    "x"
   ]
  },
  {
   "cell_type": "code",
   "execution_count": 95,
   "metadata": {},
   "outputs": [
    {
     "ename": "SyntaxError",
     "evalue": "invalid syntax (<ipython-input-95-47268eb85e88>, line 1)",
     "output_type": "error",
     "traceback": [
      "\u001b[0;36m  File \u001b[0;32m\"<ipython-input-95-47268eb85e88>\"\u001b[0;36m, line \u001b[0;32m1\u001b[0m\n\u001b[0;31m    for x in *blog.values():\u001b[0m\n\u001b[0m             ^\u001b[0m\n\u001b[0;31mSyntaxError\u001b[0m\u001b[0;31m:\u001b[0m invalid syntax\n"
     ]
    }
   ],
   "source": [
    "for x in *blog.values():\n",
    "    print(x)"
   ]
  },
  {
   "cell_type": "code",
   "execution_count": null,
   "metadata": {},
   "outputs": [],
   "source": []
  }
 ],
 "metadata": {
  "kernelspec": {
   "display_name": "Python 3",
   "language": "python",
   "name": "python3"
  },
  "language_info": {
   "codemirror_mode": {
    "name": "ipython",
    "version": 3
   },
   "file_extension": ".py",
   "mimetype": "text/x-python",
   "name": "python",
   "nbconvert_exporter": "python",
   "pygments_lexer": "ipython3",
   "version": "3.6.5"
  }
 },
 "nbformat": 4,
 "nbformat_minor": 2
}
