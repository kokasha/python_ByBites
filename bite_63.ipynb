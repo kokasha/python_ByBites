{
 "cells": [
  {
   "cell_type": "code",
   "execution_count": 25,
   "metadata": {},
   "outputs": [],
   "source": [
    "from collections import namedtuple\n",
    "from itertools import cycle, islice \n",
    "from pprint import pprint\n",
    "from time import sleep"
   ]
  },
  {
   "cell_type": "code",
   "execution_count": 4,
   "metadata": {},
   "outputs": [],
   "source": [
    "Light = namedtuple('Light','color command timeout')"
   ]
  },
  {
   "cell_type": "code",
   "execution_count": 8,
   "metadata": {},
   "outputs": [],
   "source": [
    "red = Light(color='red',command='Stop',timeout=2)\n",
    "green = Light(color='green', command='Go',timeout=2)\n",
    "amber = Light(color='amber', command='Caution',timeout=0.5)"
   ]
  },
  {
   "cell_type": "code",
   "execution_count": 9,
   "metadata": {},
   "outputs": [],
   "source": [
    "rotate = it.cycle([red,green,amber])"
   ]
  },
  {
   "cell_type": "code",
   "execution_count": 19,
   "metadata": {},
   "outputs": [
    {
     "name": "stdout",
     "output_type": "stream",
     "text": [
      "[Light(color='green', command='Go', timeout=2),\n",
      " Light(color='amber', command='Caution', timeout=0.5),\n",
      " Light(color='red', command='Stop', timeout=2),\n",
      " Light(color='green', command='Go', timeout=2),\n",
      " Light(color='amber', command='Caution', timeout=0.5),\n",
      " Light(color='red', command='Stop', timeout=2),\n",
      " Light(color='green', command='Go', timeout=2),\n",
      " Light(color='amber', command='Caution', timeout=0.5),\n",
      " Light(color='red', command='Stop', timeout=2),\n",
      " Light(color='green', command='Go', timeout=2)]\n"
     ]
    }
   ],
   "source": [
    "pprint(list(it.islice(rotate,10)))\n",
    "        "
   ]
  },
  {
   "cell_type": "code",
   "execution_count": 23,
   "metadata": {},
   "outputs": [],
   "source": [
    "State = namedtuple('State', 'color command timeout')\n",
    "\n",
    "\n",
    "def traffic_light():\n",
    "    \"\"\"Returns an itertools.cycle iterator that\n",
    "       when iterated over returns State namedtuples\n",
    "       as shown in the Bite's description\"\"\"\n",
    "    red = State(color='red',command='Stop',timeout=2)\n",
    "    green = State(color='green', command='Go',timeout=2)\n",
    "    amber = State(color='amber', command='Caution',timeout=0.5)\n",
    "    return cycle([red,green,amber])"
   ]
  },
  {
   "cell_type": "code",
   "execution_count": 26,
   "metadata": {},
   "outputs": [
    {
     "name": "stdout",
     "output_type": "stream",
     "text": [
      "Stop! The light is red\n",
      "Go! The light is green\n",
      "Caution! The light is amber\n",
      "Stop! The light is red\n",
      "Go! The light is green\n",
      "Caution! The light is amber\n",
      "Stop! The light is red\n",
      "Go! The light is green\n",
      "Caution! The light is amber\n",
      "Stop! The light is red\n"
     ]
    }
   ],
   "source": [
    "if __name__ == '__main__':\n",
    "    # print a sample of 10 states if run as standalone program\n",
    "    for state in islice(traffic_light(), 10):\n",
    "        print(f'{state.command}! The light is {state.color}')\n",
    "        sleep(state.timeout)"
   ]
  },
  {
   "cell_type": "code",
   "execution_count": null,
   "metadata": {},
   "outputs": [],
   "source": []
  }
 ],
 "metadata": {
  "kernelspec": {
   "display_name": "Python 3",
   "language": "python",
   "name": "python3"
  },
  "language_info": {
   "codemirror_mode": {
    "name": "ipython",
    "version": 3
   },
   "file_extension": ".py",
   "mimetype": "text/x-python",
   "name": "python",
   "nbconvert_exporter": "python",
   "pygments_lexer": "ipython3",
   "version": "3.7.1"
  }
 },
 "nbformat": 4,
 "nbformat_minor": 2
}
